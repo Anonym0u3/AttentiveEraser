{
 "cells": [
  {
   "cell_type": "code",
   "execution_count": 1,
   "metadata": {},
   "outputs": [
    {
     "name": "stderr",
     "output_type": "stream",
     "text": [
      "/usr/local/miniconda3/lib/python3.8/site-packages/tqdm/auto.py:21: TqdmWarning: IProgress not found. Please update jupyter and ipywidgets. See https://ipywidgets.readthedocs.io/en/stable/user_install.html\n",
      "  from .autonotebook import tqdm as notebook_tqdm\n",
      "2024-07-26 07:11:24.638457: I tensorflow/core/platform/cpu_feature_guard.cc:182] This TensorFlow binary is optimized to use available CPU instructions in performance-critical operations.\n",
      "To enable the following instructions: AVX2 FMA, in other operations, rebuild TensorFlow with the appropriate compiler flags.\n",
      "2024-07-26 07:11:25.684984: W tensorflow/compiler/tf2tensorrt/utils/py_utils.cc:38] TF-TRT Warning: Could not find TensorRT\n"
     ]
    }
   ],
   "source": [
    "from PIL import Image\n",
    "import numpy as np\n",
    "import os\n",
    "import torch\n",
    "from diffusers import DDIMScheduler,StableDiffusionXLInpaintPipeline\n",
    "from torchvision.utils import save_image\n",
    "from pytorch_lightning import seed_everything\n",
    "from matplotlib import pyplot as plt\n",
    "torch.cuda.set_device(0)  # set the GPU device"
   ]
  },
  {
   "cell_type": "code",
   "execution_count": 2,
   "metadata": {},
   "outputs": [
    {
     "name": "stderr",
     "output_type": "stream",
     "text": [
      "Loading pipeline components...: 100%|██████████| 7/7 [00:01<00:00,  3.95it/s]\n"
     ]
    },
    {
     "data": {
      "text/plain": [
       "' refiner = StableDiffusionXLInpaintPipeline.from_pretrained(\\n    \"/hy-tmp/stable-diffusion-xl-refiner-1.0\",\\n    text_encoder_2=base.text_encoder_2,\\n    scheduler=scheduler,\\n    vae=base.vae,\\n    torch_dtype=torch.float16,\\n    use_safetensors=True,\\n    variant=\"fp16\",\\n).to(device) '"
      ]
     },
     "execution_count": 2,
     "metadata": {},
     "output_type": "execute_result"
    }
   ],
   "source": [
    "device = torch.device(\"cuda\") if torch.cuda.is_available() else torch.device(\"cpu\")\n",
    "scheduler = DDIMScheduler(beta_start=0.00085, beta_end=0.012, beta_schedule=\"scaled_linear\", clip_sample=False, set_alpha_to_one=False)\n",
    "#scheduler = DPMSolverMultistepScheduler(beta_start=0.00085, beta_end=0.012, beta_schedule=\"scaled_linear\",solver_order=3)\n",
    "base = StableDiffusionXLInpaintPipeline.from_pretrained(\n",
    "    \"/hy-tmp/stable-diffusion-xl-base-1.0\",\n",
    "    #custom_pipeline=\"/hy-tmp/MyREMOVAL/SDXL_inp_pipeline.py\",\n",
    "    scheduler=scheduler,\n",
    "    variant=\"fp16\",\n",
    "    use_safetensors=True,\n",
    "    torch_dtype=torch.float16,\n",
    ").to(device)\n",
    "\n",
    "\"\"\" refiner = StableDiffusionXLInpaintPipeline.from_pretrained(\n",
    "    \"/hy-tmp/stable-diffusion-xl-refiner-1.0\",\n",
    "    text_encoder_2=base.text_encoder_2,\n",
    "    scheduler=scheduler,\n",
    "    vae=base.vae,\n",
    "    torch_dtype=torch.float16,\n",
    "    use_safetensors=True,\n",
    "    variant=\"fp16\",\n",
    ").to(device) \"\"\""
   ]
  },
  {
   "cell_type": "code",
   "execution_count": 3,
   "metadata": {},
   "outputs": [],
   "source": [
    "image_path = \"/hy-tmp/DATA/sample/62c75e993beb5e37_m02p0tk3_8e0102e2.jpg\"\n",
    "mask_image_path = \"/hy-tmp/DATA/sample/62c75e993beb5e37_m02p0tk3_8e0102e2_mask.png\"\n",
    "prompt = \"\"\n",
    "image_sc = Image.open(image_path).convert('RGB')\n",
    "mask = Image.open(mask_image_path)\n",
    "seed=777\n",
    "g = torch.Generator('cuda').manual_seed(seed)"
   ]
  },
  {
   "cell_type": "code",
   "execution_count": 4,
   "metadata": {},
   "outputs": [
    {
     "name": "stderr",
     "output_type": "stream",
     "text": [
      "100%|██████████| 47/47 [00:06<00:00,  6.90it/s]\n"
     ]
    }
   ],
   "source": [
    "image_base = base(\n",
    "    prompt=prompt,\n",
    "    image=image_sc,\n",
    "    height=1024,\n",
    "    width=1024,\n",
    "    strength=0.95,\n",
    "    mask_image=mask,\n",
    "    generator=g,\n",
    "    num_inference_steps=50,\n",
    "    guidance_scale=1,\n",
    ").images[0]\n",
    "image_base.save(\"result_+inp.png\") "
   ]
  },
  {
   "cell_type": "code",
   "execution_count": 5,
   "metadata": {},
   "outputs": [
    {
     "data": {
      "text/plain": [
       "' #image = refiner(prompt=prompt, mask_image = mask,generator=g,image=image_base[None, :],num_inference_steps=50,strength=0.3).images[0]\\nimage = refiner(prompt=prompt, mask_image = mask,generator=g,image=image_sc,num_inference_steps=50,strength=0.3).images[0]\\nimage.save(\"result_+ref.png\")\\nimage '"
      ]
     },
     "execution_count": 5,
     "metadata": {},
     "output_type": "execute_result"
    }
   ],
   "source": [
    "\"\"\" #image = refiner(prompt=prompt, mask_image = mask,generator=g,image=image_base[None, :],num_inference_steps=50,strength=0.3).images[0]\n",
    "image = refiner(prompt=prompt, mask_image = mask,generator=g,image=image_sc,num_inference_steps=50,strength=0.3).images[0]\n",
    "image.save(\"result_+ref.png\")\n",
    "image \"\"\""
   ]
  }
 ],
 "metadata": {
  "kernelspec": {
   "display_name": "base",
   "language": "python",
   "name": "python3"
  },
  "language_info": {
   "codemirror_mode": {
    "name": "ipython",
    "version": 3
   },
   "file_extension": ".py",
   "mimetype": "text/x-python",
   "name": "python",
   "nbconvert_exporter": "python",
   "pygments_lexer": "ipython3",
   "version": "3.8.10"
  }
 },
 "nbformat": 4,
 "nbformat_minor": 2
}
